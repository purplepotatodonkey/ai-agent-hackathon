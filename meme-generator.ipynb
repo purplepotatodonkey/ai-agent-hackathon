{
 "cells": [
  {
   "cell_type": "code",
   "execution_count": null,
   "metadata": {},
   "outputs": [],
   "source": [
    "!pip install openai\n",
    "!pip install sounddevice"
   ]
  },
  {
   "cell_type": "code",
   "execution_count": null,
   "metadata": {},
   "outputs": [],
   "source": [
    "from os import environ\n",
    "from dotenv import load_dotenv\n",
    "\n",
    "load_dotenv()\n",
    "\n",
    "OPENAI_API_KEY = environ[\"OPENAI_API_KEY\"]\n",
    "\n",
    "print(OPENAI_API_KEY)"
   ]
  },
  {
   "cell_type": "code",
   "execution_count": null,
   "metadata": {},
   "outputs": [],
   "source": [
    "import sounddevice\n",
    "from scipy.io.wavfile import write\n",
    "sampleRate = 44100\n",
    "print (\"recording...\")\n",
    "\n",
    "audio = sounddevice.rec(int(12 * sampleRate), sampleRate, channels=1)\n",
    "sounddevice.wait()\n",
    "write(\"recording.wav\", sampleRate, audio)"
   ]
  },
  {
   "cell_type": "code",
   "execution_count": null,
   "metadata": {},
   "outputs": [],
   "source": [
    "from openai import OpenAI\n",
    "\n",
    "client = OpenAI(api_key=OPENAI_API_KEY)\n",
    "\n",
    "file_path = \"./proven_recording.wav\"\n",
    "# file_path = \"./recording.wav\"\n",
    "\n",
    "with open(file_path, \"rb\") as audio_file:\n",
    "    response = client.audio.transcriptions.create(\n",
    "        model=\"whisper-1\",\n",
    "        file=audio_file,\n",
    "        language=\"en\",\n",
    "        response_format=\"text\"\n",
    "    )\n",
    "\n",
    "if response:\n",
    "    print(\"Transcription:\", response)\n",
    "\n",
    "transcription = response"
   ]
  },
  {
   "cell_type": "code",
   "execution_count": null,
   "metadata": {},
   "outputs": [],
   "source": [
    "from openai import OpenAI\n",
    "\n",
    "client = OpenAI()\n",
    "response = client.chat.completions.with_raw_response.create(\n",
    "    messages=[{\n",
    "        \"role\": \"user\",\n",
    "        \"content\": \"What is the name of the meme that the user is asking about in the phrase that follows the # character? Emit just the meme name, nothing else. # \" + transcription\n",
    "    }],\n",
    "    model=\"gpt-3.5-turbo\",\n",
    ")\n",
    "print(response.headers.get('X-My-Header'))\n",
    "\n",
    "completion = response.parse()  # get the object that `chat.completions.create()` would have returned\n",
    "memeName = completion.choices[0].message.content\n",
    "print (memeName)"
   ]
  },
  {
   "cell_type": "code",
   "execution_count": null,
   "metadata": {},
   "outputs": [],
   "source": [
    "from openai import OpenAI\n",
    "\n",
    "client = OpenAI()\n",
    "response = client.chat.completions.with_raw_response.create(\n",
    "    messages=[{\n",
    "        \"role\": \"user\",\n",
    "        \"content\": \"The web page at  https://imgflip.com/popular-meme-ids contains a table of meme image IDs and descriptions. What is the ID of the '\" + memeName + \"' meme? Emit just the ID number, nothing else.\"\n",
    "    }],\n",
    "    model=\"gpt-3.5-turbo\",\n",
    ")\n",
    "print(response.headers.get('X-My-Header'))\n",
    "\n",
    "completion = response.parse()  # get the object that `chat.completions.create()` would have returned\n",
    "memeNumber = completion.choices[0].message.content\n",
    "print (memeNumber)"
   ]
  },
  {
   "cell_type": "code",
   "execution_count": null,
   "metadata": {},
   "outputs": [],
   "source": [
    "from openai import OpenAI\n",
    "\n",
    "client = OpenAI()\n",
    "response = client.chat.completions.with_raw_response.create(\n",
    "    messages=[{\n",
    "        \"role\": \"user\",\n",
    "        \"content\": \"In the phrase that follows the # character, What 'top text' does the user want to be on the top of meme? Emit just the top text, nothing else. # \" + transcription\n",
    "    }],\n",
    "    model=\"gpt-3.5-turbo\",\n",
    ")\n",
    "print(response.headers.get('X-My-Header'))\n",
    "\n",
    "completion = response.parse()  # get the object that `chat.completions.create()` would have returned\n",
    "topText = completion.choices[0].message.content\n",
    "print (topText)"
   ]
  },
  {
   "cell_type": "code",
   "execution_count": null,
   "metadata": {},
   "outputs": [],
   "source": [
    "from openai import OpenAI\n",
    "\n",
    "client = OpenAI()\n",
    "response = client.chat.completions.with_raw_response.create(\n",
    "    messages=[{\n",
    "        \"role\": \"user\",\n",
    "        \"content\": \"In the phrase that follows the # character, What text does the user want to put on the bottom of meme? Emit just the text, nothing else. # \" + transcription\n",
    "    }],\n",
    "    model=\"gpt-3.5-turbo\",\n",
    ")\n",
    "print(response.headers.get('X-My-Header'))\n",
    "\n",
    "completion = response.parse()  # get the object that `chat.completions.create()` would have returned\n",
    "bottomText = completion.choices[0].message.content\n",
    "print (bottomText)"
   ]
  },
  {
   "cell_type": "code",
   "execution_count": null,
   "metadata": {},
   "outputs": [],
   "source": [
    "import requests\n",
    "import urllib\n",
    "\n",
    "url = \"https://api.imgflip.com/caption_image\"\n",
    "\n",
    "params = {\n",
    "    'username':'natewaddoups',\n",
    "    'password': 'ruwwjZzJMe4K:bZ',\n",
    "    'template_id': memeNumber,\n",
    "    'text0':topText,\n",
    "    'text1':bottomText\n",
    "}\n",
    "response = requests.request('POST',url,params=params).json()\n",
    "print(response)\n",
    "\n"
   ]
  },
  {
   "cell_type": "code",
   "execution_count": null,
   "metadata": {},
   "outputs": [],
   "source": [
    "import webbrowser\n",
    "\n",
    "webbrowser.open(response[\"data\"][\"url\"])"
   ]
  }
 ],
 "metadata": {
  "kernelspec": {
   "display_name": "Python 3",
   "language": "python",
   "name": "python3"
  },
  "language_info": {
   "codemirror_mode": {
    "name": "ipython",
    "version": 3
   },
   "file_extension": ".py",
   "mimetype": "text/x-python",
   "name": "python",
   "nbconvert_exporter": "python",
   "pygments_lexer": "ipython3",
   "version": "3.10.11"
  }
 },
 "nbformat": 4,
 "nbformat_minor": 2
}
